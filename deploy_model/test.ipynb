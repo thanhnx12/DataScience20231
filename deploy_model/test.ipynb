{
 "cells": [
  {
   "cell_type": "code",
   "execution_count": 12,
   "metadata": {},
   "outputs": [],
   "source": [
    "from sentence_transformers import SentenceTransformer\n",
    "from scipy import spatial"
   ]
  },
  {
   "cell_type": "markdown",
   "metadata": {},
   "source": [
    "# Load model"
   ]
  },
  {
   "cell_type": "code",
   "execution_count": 15,
   "metadata": {},
   "outputs": [],
   "source": [
    "SBERT_model = SentenceTransformer('all-MiniLM-L6-v2')\n",
    "sentences = [\"Hey there, are you good ?\" , \"How are you today?\"]\n",
    "vectors = SBERT_model.encode(sentences)"
   ]
  },
  {
   "cell_type": "code",
   "execution_count": 16,
   "metadata": {},
   "outputs": [
    {
     "name": "stdout",
     "output_type": "stream",
     "text": [
      "0.488608717918396\n"
     ]
    }
   ],
   "source": [
    "similarity = 1 - spatial.distance.cosine(vectors[0], vectors[1])\n",
    "print(similarity)"
   ]
  },
  {
   "cell_type": "markdown",
   "metadata": {},
   "source": [
    "# Save model to directory"
   ]
  },
  {
   "cell_type": "code",
   "execution_count": 27,
   "metadata": {},
   "outputs": [],
   "source": [
    "directory = './model'\n",
    "SBERT_model.save(directory)"
   ]
  },
  {
   "cell_type": "code",
   "execution_count": 19,
   "metadata": {},
   "outputs": [
    {
     "name": "stdout",
     "output_type": "stream",
     "text": [
      "Collecting torch-model-archiver\n",
      "  Obtaining dependency information for torch-model-archiver from https://files.pythonhosted.org/packages/9b/20/08047e340f7d136695eec8230eb7eef9fdf5d4d75ddedb146d2b76b5d833/torch_model_archiver-0.9.0-py3-none-any.whl.metadata\n",
      "  Downloading torch_model_archiver-0.9.0-py3-none-any.whl.metadata (1.4 kB)\n",
      "Collecting enum-compat (from torch-model-archiver)\n",
      "  Downloading enum_compat-0.0.3-py3-none-any.whl (1.3 kB)\n",
      "Downloading torch_model_archiver-0.9.0-py3-none-any.whl (14 kB)\n",
      "Installing collected packages: enum-compat, torch-model-archiver\n",
      "Successfully installed enum-compat-0.0.3 torch-model-archiver-0.9.0\n"
     ]
    }
   ],
   "source": [
    "# install torch-model-archiver\n",
    "!pip install torch-model-archiver"
   ]
  },
  {
   "cell_type": "markdown",
   "metadata": {},
   "source": [
    "# Create mar file"
   ]
  },
  {
   "cell_type": "code",
   "execution_count": 33,
   "metadata": {},
   "outputs": [],
   "source": [
    "!torch-model-archiver --model-name sbert --version 1.0 --serialized-file model/pytorch_model.bin --handler run_handler.py --extra-files \"model/config.json,model/vocab.txt\" --export-path .\n"
   ]
  },
  {
   "cell_type": "markdown",
   "metadata": {},
   "source": [
    "```sh\n",
    "docker build -t ptserve-sbert:v1\n",
    "docker run -rm -it -p 3000:8000 ptserve-sbert:v1\n",
    "```"
   ]
  },
  {
   "cell_type": "markdown",
   "metadata": {},
   "source": [
    "# test"
   ]
  },
  {
   "cell_type": "code",
   "execution_count": 34,
   "metadata": {},
   "outputs": [
    {
     "name": "stdout",
     "output_type": "stream",
     "text": [
      "0.48860879112030975\n"
     ]
    }
   ],
   "source": [
    "import requests\n",
    "import json\n",
    "sbert_api = \"http://localhost:3000\"\n",
    "sentences = [\"Hey there, are you good ?\" , \"How are you today?\"]\n",
    "response = requests.post(sbert_api + '/predictions/SBERT',data = {'data' : json.dumps({'queries' : sentences})})\n",
    "if response.status_code:\n",
    "    vectors = response.json()\n",
    "    similarity = 1 - spatial.distance.cosine(vectors[0], vectors[1])\n",
    "    print(similarity)"
   ]
  },
  {
   "cell_type": "code",
   "execution_count": null,
   "metadata": {},
   "outputs": [],
   "source": []
  }
 ],
 "metadata": {
  "kernelspec": {
   "display_name": "thanhnx",
   "language": "python",
   "name": "python3"
  },
  "language_info": {
   "codemirror_mode": {
    "name": "ipython",
    "version": 3
   },
   "file_extension": ".py",
   "mimetype": "text/x-python",
   "name": "python",
   "nbconvert_exporter": "python",
   "pygments_lexer": "ipython3",
   "version": "3.10.12"
  }
 },
 "nbformat": 4,
 "nbformat_minor": 2
}
