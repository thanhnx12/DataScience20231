{
 "cells": [
  {
   "cell_type": "markdown",
   "metadata": {},
   "source": [
    "# Careerbuilder"
   ]
  },
  {
   "cell_type": "code",
   "execution_count": 1,
   "metadata": {},
   "outputs": [],
   "source": [
    "import json\n",
    "careerbuilder = json.load(open('./data/careerbuilder.json','r',encoding='utf-8'))"
   ]
  },
  {
   "cell_type": "code",
   "execution_count": 2,
   "metadata": {},
   "outputs": [],
   "source": [
    "list_keys = []\n",
    "for x in careerbuilder:\n",
    "    if list(x.keys()) not in list_keys:\n",
    "        list_keys.append(list(x.keys()))"
   ]
  },
  {
   "cell_type": "code",
   "execution_count": 3,
   "metadata": {},
   "outputs": [
    {
     "data": {
      "text/plain": [
       "[['header', 'description']]"
      ]
     },
     "execution_count": 3,
     "metadata": {},
     "output_type": "execute_result"
    }
   ],
   "source": [
    "list_keys"
   ]
  },
  {
   "cell_type": "code",
   "execution_count": 19,
   "metadata": {},
   "outputs": [
    {
     "data": {
      "text/plain": [
       "{'header': {'infor': [{'type': 'Updated', 'descrip': '25/11/2023'},\n",
       "   {'type': '', 'descrip': ''},\n",
       "   {'type': 'Job type', 'descrip': 'Permanent'},\n",
       "   {'type': 'Salary', 'descrip': '15 Mil - 25 Mil VND'},\n",
       "   {'type': 'Experience', 'descrip': '2 - 5 Years'},\n",
       "   {'type': 'Job level', 'descrip': 'Experienced (Non - Manager)'},\n",
       "   {'type': 'Deadline to apply', 'descrip': '24/12/2023'}],\n",
       "  'job_name': 'Chuyên Viên Thiết Kế Marketing (Marketing Designer)'},\n",
       " 'description': {'benefit': {'title': 'Benefits ',\n",
       "   'infor': ['Laptop',\n",
       "    'Insurance',\n",
       "    'Travel',\n",
       "    'Allowances',\n",
       "    'Incentive bonus',\n",
       "    'Healthcare',\n",
       "    'Training Scheme',\n",
       "    'Salary review']},\n",
       "  'job_description': {'title': 'Job Description',\n",
       "   'infor': ['Thiết kế hình ảnh nhận diện thương hiệu Standee poster POP Banner Cover giao diện các kênh Website Fanpage Zalo',\n",
       "    'Phối hợp với bộ phận Digital quay và dựng clip giới thiệu sản phẩm dịch vụ của thương hiệu Clip theo chiến dịch truyền thông của công ty',\n",
       "    'Set up quay chụp và edit video để phục vụ cho các chiến dịch PR Marketing theo yêu cầu của công ty Facebook Youtube Tiktok livestream…',\n",
       "    'Thiết kế hình ảnhvideo sản phẩm chương trình bán hàng Online  Offline Sản xuất hình ảnhvideo Mô tả sản phẩm Album sản phẩm Bộ hình ảnh truyền thông Banner quảng cáo Hình ảnh minh họa bài post',\n",
       "    'Thiết kế chương trình hỗ trợ bán hàng Chương trình khuyến mại Chương trình bán hàng OnlineOffline',\n",
       "    'Sản xuất Quản lý hình ảnh thương hiệusản phẩm tại điểm bán các kênh truyền thông',\n",
       "    'Nghiên cứu thị trường cập nhập xu hướng thiết kế Đối thủ cạnh tranh và tổng quan ngành về xu hướng thiết kế trên kênh Online Nhu cầu và thói quen của khách hàng trên kênh Online Nhu cầu sử dụng sản phẩm củ khách hàng mục tiêu',\n",
       "    'Công việc khác theo sự phân công của cấp trên']},\n",
       "  'job_requirement': {'title': 'Job Requirement',\n",
       "   'infor': ['Trình độ học vấn bằng cấp chuyên môn Tốt nghiệp Đại học chuyên ngành Mỹ thuật Thiết kế Marketing ngoại thương vv…',\n",
       "    'Kinh nghiệm Ít nhất 2 năm kinh nghiệm làm việc ở vị trí tương tự ưu tiên đã làm trong ngành FMCG',\n",
       "    'Thành thạo các phần mềm thiết kế như Photoshop Illustrator InDesign Flash Adobe Premier Deamweaver…',\n",
       "    'Am hiểu về các phần mềm biên tập chỉnh sửa video',\n",
       "    'Sáng tạo có khả năng tư duy thẩm mỹ tốt có kỹ năng phân tích nội dung thiết kế chuyển tải ý tưởng và giao tiếp với bộ phận liên quan',\n",
       "    'Năng động nhiệt tình kiên trì chịu được áp lực cao trong công việc',\n",
       "    'Khả năng làm việc độc lập và theo nhóm tốt']},\n",
       "  'more_infor': {'title': 'More Information', 'infor': []}},\n",
       " '_id': ObjectId('6576740ad589a6bfbca675df')}"
      ]
     },
     "execution_count": 19,
     "metadata": {},
     "output_type": "execute_result"
    }
   ],
   "source": [
    "careerbuilder[0]"
   ]
  },
  {
   "cell_type": "markdown",
   "metadata": {},
   "source": [
    "# Devwork\n"
   ]
  },
  {
   "cell_type": "code",
   "execution_count": 5,
   "metadata": {},
   "outputs": [],
   "source": [
    "devwork = json.load(open('./data/devwork.json','r',encoding='utf-8'))"
   ]
  },
  {
   "cell_type": "code",
   "execution_count": 6,
   "metadata": {},
   "outputs": [
    {
     "data": {
      "text/plain": [
       "[['link', 'more_infor', 'description']]"
      ]
     },
     "execution_count": 6,
     "metadata": {},
     "output_type": "execute_result"
    }
   ],
   "source": [
    "list_keys = []\n",
    "for x in devwork:\n",
    "    if list(x.keys()) not in list_keys:\n",
    "        list_keys.append(list(x.keys()))\n",
    "list_keys"
   ]
  },
  {
   "cell_type": "code",
   "execution_count": 7,
   "metadata": {},
   "outputs": [
    {
     "data": {
      "text/plain": [
       "[{'title': 'Mô tả công việc',\n",
       "  'descrip': ['- Phát triển và bảo trì ứng dụng liên quan đến một phần mềm ERP của Nhật Bản',\n",
       "   '- Tham gia vào toàn bộ quá trình phát triển phần mềm',\n",
       "   '- Viết code rõ ràng, hiệu quả và dễ bảo trì',\n",
       "   '- Review code và đảm bảo chất lượng code của team',\n",
       "   '- Phối hợp với các team khác (QA, TESTER…) để xác định và giải quyết các vấn đề',\n",
       "   '- Viết các tài liệu kỹ thuật',\n",
       "   '- Khắc phục sự cố và fix bug khi có',\n",
       "   '- Cập nhật với các xu hướng và các quy trình mới nhất trong ngành.',\n",
       "   '- Báo cáo cho người quản lý trực tiếp về tiến độ, vấn đề, chất lượng...',\n",
       "   '- Thực hiện các công việc khác theo sự phân công của người quản lý']},\n",
       " {'title': 'Yêu cầu công việc',\n",
       "  'descrip': ['- Có nhiều kinh nghiệm làm các dự án ERP',\n",
       "   '- Ưu tiên đã có kinh nghiệm làm dự án Grandit ERP của Nhật Bản',\n",
       "   '- Có tối thiểu 5 năm kinh nghiệm .NET (C#, ASP.NET), .Net Core, MVC5, SQL Server , PostgreSQL Server, Javascript/ jQuery, CSS, HTML.',\n",
       "   '- Có khả năng phân tích thiết kế hệ thống, có kiến thức về Design Pattern, OOP…',\n",
       "   '- Có kiến thức và hiểu biết về: azure cloud, windows server, EF framework, unit test.']},\n",
       " {'title': 'Thời gian làm việc',\n",
       "  'descrip': ['Trong tuần: Từ thứ 2 - thứ 6', '']},\n",
       " {'title': 'Quyền lợi ứng viên',\n",
       "  'descrip': ['- Mức lương: upto 40M , thử việc 100% lương.',\n",
       "   '- Môi trường làm việc chuyên nghiệp, cởi mở, thân thiện và trẻ trung, máu lửa, có cơ hội thăng tiến, phát triển bản thân cao.',\n",
       "   '- Cơ hội tiếp xúc trực tiếp với khách hàng, nắm bắt nghiệp vụ và tư vấn lại cho khách hàng.',\n",
       "   '- Lương tháng 13 cố định (nếu làm đủ năm).',\n",
       "   '- Thưởng năng suất theo doanh thu dự án. Với mức thưởng này và mức lương tháng 13, nhân viên LogiGear Hà Nội có thể nhận tới hơn 14 tháng lương/năm.',\n",
       "   '- Quà nhân dịp Lễ, Tết, hiếu hỉ.',\n",
       "   '- Các chế độ BHXH, BHYT, khám sức khỏe định kỳ hàng năm.',\n",
       "   '- Thời gian làm việc: Từ 8:30 đến 17:30, từ thứ Hai đến thứ Sáu hàng tuần.',\n",
       "   '- Nghỉ lễ theo lịch chung của Việt Nam.',\n",
       "   '- Các phúc lợi khác: Teambuilding hàng tháng, được coaching trực tiếp từ Giám đốc bộ phận.']},\n",
       " {'title': 'Địa chỉ làm việc', 'descrip': ['Tòa HL Tower Duy Tân Cầu Giấy']}]"
      ]
     },
     "execution_count": 7,
     "metadata": {},
     "output_type": "execute_result"
    }
   ],
   "source": [
    "devwork[0]['description']  "
   ]
  },
  {
   "cell_type": "markdown",
   "metadata": {},
   "source": [
    "# Indeed"
   ]
  },
  {
   "cell_type": "code",
   "execution_count": 8,
   "metadata": {},
   "outputs": [],
   "source": [
    "indeed = json.load(open('./data/indeed.json','r',encoding='utf-8'))"
   ]
  },
  {
   "cell_type": "code",
   "execution_count": 9,
   "metadata": {},
   "outputs": [
    {
     "data": {
      "text/plain": [
       "{'keyword': 'back-end developer',\n",
       " 'location': 'Ha Noi',\n",
       " 'page': 3,\n",
       " 'position': 14,\n",
       " 'company': 'Việc Ơi It Client',\n",
       " 'jobkey': '4aa05f647cc556ea',\n",
       " 'jobTitle': '[HÀ NỘI] 2021_MOBILE DEVELOPER (ANDROID, FLUTTER)',\n",
       " 'jobDescription': '<b>Giới thiệu:</b>\\n<br> Việc Ơi It Client là công ty 100% vốn nước ngoài đang hoạt động lĩnh vực IT Phần mềm, Lập Trình tại TPHCM. Hiện tại chúng tôi đang cần tuyển vị trị trí \"[Remote] Japanese Ruby on Rails NN_man/year\", \"[Remote] Senior Rails Developer_Upto 4000$ Gross\". với các kỹ năng như Trình Độ Chuyên Môn, Agile, API .Bạn sẽ được hưởng các chế độ phúc lợi như Chế độ Thưởng, Du Lịch khi làm việc tại Việc Ơi It Client. \\n<br>\\n<ul> \\n <li>Tham gia phân tích, thiết kế, tư vấn giải pháp về hệ thống để đáp ứng yêu cầu của khách hàng.</li> \\n <li>Dựng base code, kiểm soát chất lượng code, review, coding để tạo ra sản phẩm chất lượng và có trải nghiệm tốt cho người dùng.</li> \\n <li>Tư vấn cho khách hàng về các thư viện cho các dự án lớn như Streaming, AI, AR, IOT.</li> \\n <li>Working place: Tầng 5 toà nhà Hoàng Ngọc, Ngõ 82 Dịch Vọng Hậu, Cau Giay, Ha Noi</li> \\n <li>Requirements</li> \\n</ul> \\n<b>Yêu cầu bắt buộc:</b>\\n<br> \\n<ul> \\n <li>Trên 1 năm kinh nghiệm làm Mobile developer Flutter (Android or IOS Native ), trong đó ưu tiên làm Flutter.</li> \\n <li>Có kinh nghiệm làm việc với Back-end Restful API.</li> \\n <li>Kĩ năng giải quyết vấn đề.</li> \\n <li>Chủ động sáng tạo trong công việc.</li> \\n <li>Có hiểu biết, thành thạo về các Version Control System, chẳng hạn như Git.</li> \\n <li>Có tinh thần teamwork đóng góp xây dựng để team cùng phát triển.</li> \\n <li>Tư duy lập trình nhanh, nhạy bén.</li> \\n</ul> \\n<b>Yêu cầu ưu tiên:</b>\\n<br> \\n<ul> \\n <li>Design pattern (MVP, MVVM, Clean architecture).</li> \\n <li>Có sản phẩm chạy thực tế trên Apple Store và Google Play.</li> \\n <li>Có kinh nghiệm làm với thị trường Nhật.</li> \\n <li>Nắm được thông tin các phiên bản Flutter mới và build được ra iOS và cả Android.</li> \\n <li>Kĩ năng giải quyết vấn đề.</li> \\n <li>Chủ động sáng tạo trong công việc.</li> \\n <li>Có sản phẩm chạy thực tế trên Apple Store và Google Play.</li> \\n <li>Có kinh nghiệm làm với thị trường Nhật.</li> \\n <li>Salary: Upto 2000USD Gross</li> \\n <li>WORKING CONDITION</li> \\n</ul> \\n<b>Working time:</b>Mon-Fri:8::30 ( Break time: 1h30) \\n<br>\\n<b>Review salary:</b>2 times/year \\n<br>\\n<b>Insurance :</b>As Law \\n<br>\\n<br> \\n<ul> \\n <li>Benefit</li> \\n <li>12 ngày nghỉ phép nguyên lương phép/năm</li> \\n <li>Bảo hiểm xã hội theo luật Lao động</li> \\n <li>Bảo hiểm nhân thọ bên ngoài cho nhân viên, khám sức khỏe định kỳ hàng năm.</li> \\n <li>Xét lương 1 lần/năm và xét tăng lương đột xuất theo năng lực.</li> \\n</ul> Tháng lương thứ Mặc định cuối năm, Mặc định giữa năm Đặc biệt hơn năm sẽ có tháng lương thứ , cho một số member \\n<br>\\n<ul> \\n <li>Thưởng “quá nhiều” “quá bất ngờ”: Thưởng Nhân viên xuất sắc hàng tháng, hàng năm; Thưởng dự án, thưởng hiệu suất làm việc; Thưởng tuyển dụng; thưởng nghỉ lễ, Tết... Nhiều khoản thưởng đột xuất khác.</li> \\n <li>Trợ cấp “Bao vui”: Trợ cấp team building thường xuyên hàng tháng, quý; trợ cấp đi lại, ăn trưa, nuôi con nhỏ…</li> \\n</ul> Quà tặng sinh nhật, tặng lễ tết… \\n<br>\\n<ul> \\n <li>Đào tạo Tiếng Nhật miễn phí</li> \\n <li>Du lịch hàng năm, teambuilding hàng quý.</li> \\n <li>INTERVIEW PROCESS</li> \\n</ul> \\n<b>1st:</b>phỏng vấn 1 vòng với sếp Nhật và CEO người Việt \\n<br>\\n<b>Địa điểm làm việc:</b> Hà Nội \\n<br>\\n<b>Lương:</b> 30000K - 40000K VND một tháng \\n<br>\\n<b>Loại hình công việc:</b> Thỏa thuận thời gian \\n<br>\\n<b>Yêu cầu:</b> CV \\n<br>\\n<b>Quyền lợi:</b> Cơ Hội Phát Triển \\n<br>\\n<b>Hạn nộp:</b> 2023-11-05 \\n<br>\\n<b>Kinh nghiệm:</b> 1 - 5 năm \\n<br>\\n<b>Bằng cấp:</b> Không yêu cầu \\n<br>\\n<b>Lĩnh vực:</b> IT/CNTT -IT Phần cứng, Mạng \\n<br>\\n<b>Số lượng cần tuyển:</b> 1 \\n<br>\\n<b>Giới tính:</b> Không yêu cầu',\n",
       " 'Requirement': ['Trên 1 năm kinh nghiệm làm Mobile developer Flutter (Android or IOS Native ), trong đó ưu tiên làm Flutter.',\n",
       "  'Có kinh nghiệm làm việc với Back-end Restful API.',\n",
       "  'Kĩ năng giải quyết vấn đề.',\n",
       "  'Chủ động sáng tạo trong công việc.',\n",
       "  'Có hiểu biết, thành thạo về các Version Control System, chẳng hạn như Git.',\n",
       "  'Có tinh thần teamwork đóng góp xây dựng để team cùng phát triển.',\n",
       "  'Tư duy lập trình nhanh, nhạy bén.'],\n",
       " 'Salary': ['2 times/year', '30000K - 40000K VND một tháng'],\n",
       " 'Offer': ['Cơ Hội Phát Triển']}"
      ]
     },
     "execution_count": 9,
     "metadata": {},
     "output_type": "execute_result"
    }
   ],
   "source": [
    "indeed[0]"
   ]
  },
  {
   "cell_type": "markdown",
   "metadata": {},
   "source": [
    "# Jobs 365"
   ]
  },
  {
   "cell_type": "code",
   "execution_count": 10,
   "metadata": {},
   "outputs": [],
   "source": [
    "jobs365 = json.load(open('./data/jobs365.json','r',encoding='utf-8'))"
   ]
  },
  {
   "cell_type": "code",
   "execution_count": 11,
   "metadata": {},
   "outputs": [
    {
     "data": {
      "text/plain": [
       "{'keyword': 'frontend developer',\n",
       " 'location': 'Ha Noi',\n",
       " 'page': 21,\n",
       " 'position': 19,\n",
       " 'company': 'Công ty Cổ Phần Ominext',\n",
       " 'jobKey': '318310',\n",
       " 'jobService': 'Nhân viên',\n",
       " 'jobForm': 'Toàn thời gian cố định',\n",
       " 'jobField': None,\n",
       " 'requirement': ['Hơn 1 năm kinh nghiệm', 'Khác'],\n",
       " 'salary': '20 - 30 triệu',\n",
       " 'jobName': 'Kĩ Sư Cầu Nối - BrSE ( Làm Việc Tại Tokyo, Nhật Bản)',\n",
       " 'jobDescription': '\\r\\n                 Kỹ sư cầu nối (BrSE) là người đóng vai trò kết nối giữa khách hàng(KH) và project team, sử dụng kỹ năng giao tiếp, nghiệp vụ về kỹ thuật của mình để giúp cho quá trình trao đổi giữa hai bên khách hàng và project team được thông suốt, thực hành trơn tru các công việc dự án, hướng đến kết quả cuối cùng là bàn giao dự án thành công, đem lại sự hài lòng đến với khách hàng<br>- Trao đổi với KH lấy thông tin dự án, tài liệu yêu cầu, xác nhận lại thông tin và báo cáo với KH tiến độ dự án theo các loại hình báo cáo<br>- Cùng với đội dự án đọc hiểu tài liệu nghiệp vụ dự án, xác nhận lại yêu cầu với KH, thực hiện phân tích và thiết kế hệ thống<br>- Kết hợp cùng với nhân viên kinh doanh (Sale) ước lượng nỗ lực thực hiện dự án và làm báo giá(estimation) cho KH<br>- Kết hợp với PM lên kế hoạch và giám sát tiến độ thực hiện dự án.<br>- Thực hiện kiểm tra chất lượng sản phẩm đầu ra của dự án trước khi deliver cho KH.<br>- Là cầu nối trao đổi với KH, Q&amp;A, giải quyết các vấn đề phát sinh trong dự án, và các vấn đề sau khi bàn giao.            ',\n",
       " 'offer': '<div class=\"text_content ctn_chung_pd\">\\r\\n                - Lương: Thỏa thuận.<br>- Được tham gia các loại bảo hiểm theo quy định của Pháp luật (BHXH, BHYT, BHTN).<br>- Được đánh giá năng lực 2 lần/năm.<br>- Được hỗ trợ kinh phí học tập và nâng cao trình độ bản thân.<br>- Hỗ trợ 100% chi phí đi lại (tối đa 20,000 JPY/tháng).<br>- Hỗ trợ nhà ở: 30,000 JPY/tháng.<br>- Hỗ trợ xin visa (cho ứng viên ở Việt Nam), đổi visa (cho ứng viên tại Nhật Bản) nếu cần.<br>- Tiền thưởng: theo kết quả công việc và tình hình kinh doanh của công ty.<br>- Thời gian làm việc:<br>+ Địa điểm làm việc: Tokyo: Berurein-Azabu#602, 1-3-7, Azabujuban, Minato-ku, Tokyo, 106-0045, Japan.<br>+ Buổi sáng Từ 8:00 – 11:30, buổi chiều từ : 13:00- 17:30. Từ thứ Hai đến thứ Sáu.<br>+ Nghỉ các ngày Lễ, Tết theo quy định của Pháp luật.            </div>'}"
      ]
     },
     "execution_count": 11,
     "metadata": {},
     "output_type": "execute_result"
    }
   ],
   "source": [
    "jobs365[0]"
   ]
  },
  {
   "cell_type": "markdown",
   "metadata": {},
   "source": [
    "# Jobsgo"
   ]
  },
  {
   "cell_type": "code",
   "execution_count": 12,
   "metadata": {},
   "outputs": [],
   "source": [
    "jobsgo = json.load(open('./data/jobsgo.json','r',encoding='utf-8'))"
   ]
  },
  {
   "cell_type": "code",
   "execution_count": 13,
   "metadata": {},
   "outputs": [
    {
     "data": {
      "text/plain": [
       "{'link': 'https://jobsgo.vn/viec-lam/devops-engineer-16444698581.html',\n",
       " 'location': [' Việc làm Hà Nội', ' Việc làm Quận Cầu Giấy'],\n",
       " 'title_name': 'Devops Engineer',\n",
       " 'list_skill': ['Python', 'Cloud (AWS/Azure)', 'CNTT - Phần Mềm'],\n",
       " 'description': ['• Ensuring technical design documents are scalable and maintainable.',\n",
       "  '• Identifying opportunities to improve the configuration and management of environments and services on AWS.',\n",
       "  '• Enhancing tools and processes for monitoring scalable applications on AWS.',\n",
       "  '• Collaborate across teams to ensure and encourage SRE, DevOps and Security best practices.'],\n",
       " 'requirement': ['• At least 3-4 years of experience in DevOps.',\n",
       "  '• Experience with cloud-based infrastructure and services (AWS, Azure, Google Cloud).',\n",
       "  '• Implementation of SRE best practices.',\n",
       "  '• Confident working with automated deployment systems (eg. CloudFormation. CodeBuild).',\n",
       "  '• Experience in supporting MongoDB-based web applications.',\n",
       "  '• Experience with cloud virtualization tools such as ECS and/or Docker containers.',\n",
       "  '• Experience in designing solutions based on AWS services.',\n",
       "  '• Strong understanding of performance for NodeJS applications.',\n",
       "  '• Familiar with Agile/Scrum mindset.',\n",
       "  '• Good logical thinking & problem-solving skills.',\n",
       "  '• Good English skills.'],\n",
       " 'benefit': ['• Work in Agile teams, enjoy good teamwork, and a professional environment.',\n",
       "  '• Possibility to develop your career within an international company.',\n",
       "  '• We are a global company, with many offices and projects all over the world (opportunity to travel to other countries where there are Pentalog offices).',\n",
       "  '• Professional roadmap, offered support, and onboard training.',\n",
       "  '• Free technical learning courses, foreign language courses (English, French).',\n",
       "  '• Enjoy interesting activities: Coding challenges, PentaBar, Hackathon etc.',\n",
       "  '• 100% of the salary is paid during the probation period.',\n",
       "  '• Attractive salary and bonuses.',\n",
       "  '• Social insurance payment is based on the full salary, allowing you to keep your full benefits.',\n",
       "  '• A premium healthcare package (24/7 health insurance package + an annual health check-up).',\n",
       "  '• Flexible working hours, no fingerprint timekeeping.',\n",
       "  \"• Working days: 5 days/week: from Monday to Friday (We don't encourage overtime work!).\",\n",
       "  '• Paid annual leave: 26 days (11 holidays +15 vacation days).',\n",
       "  '• Company equipment: devices and subscriptions used for work (Laptop, Case, Smartphone etc.).',\n",
       "  '• Enjoy bonding activities like team building, summer holiday, Christmas party, Happy hour etc.'],\n",
       " 'more_infor': [{'type': 'Tính chất công việc', 'descrip': 'Full-time'},\n",
       "  {'type': 'Vị trí/chức vụ', 'descrip': 'Nhân Viên/Chuyên Viên'},\n",
       "  {'type': 'Ngày đăng tuyển', 'descrip': '20/11/2023'},\n",
       "  {'type': 'Yêu cầu bằng cấp', 'descrip': 'Trung cấp - Nghề'},\n",
       "  {'type': 'Yêu cầu kinh nghiệm', 'descrip': 'Không yêu cầu'}]}"
      ]
     },
     "execution_count": 13,
     "metadata": {},
     "output_type": "execute_result"
    }
   ],
   "source": [
    "jobsgo[0]"
   ]
  },
  {
   "cell_type": "markdown",
   "metadata": {},
   "source": [
    "# connect to mongo db"
   ]
  },
  {
   "cell_type": "code",
   "execution_count": 4,
   "metadata": {},
   "outputs": [
    {
     "data": {
      "text/plain": [
       "['admin', 'config', 'local']"
      ]
     },
     "execution_count": 4,
     "metadata": {},
     "output_type": "execute_result"
    }
   ],
   "source": [
    "from pymongo import MongoClient\n",
    "client = MongoClient('localhost', 27017)\n",
    "client.list_database_names()"
   ]
  },
  {
   "cell_type": "code",
   "execution_count": 15,
   "metadata": {},
   "outputs": [],
   "source": [
    "db_jobs = client['jobs']\n",
    "collection_careerbuilder = db_jobs['careerbuilder']\n",
    "collection_devwork = db_jobs['devwork']\n",
    "collection_indeed = db_jobs['indeed']\n",
    "collection_jobs365 = db_jobs['jobs365']\n",
    "collection_jobsgo = db_jobs['jobsgo']\n"
   ]
  },
  {
   "cell_type": "markdown",
   "metadata": {},
   "source": [
    "# insert data"
   ]
  },
  {
   "cell_type": "code",
   "execution_count": 16,
   "metadata": {},
   "outputs": [
    {
     "data": {
      "text/plain": [
       "InsertManyResult([ObjectId('6576740ad589a6bfbca6b2ad'), ObjectId('6576740ad589a6bfbca6b2ae'), ObjectId('6576740ad589a6bfbca6b2af'), ObjectId('6576740ad589a6bfbca6b2b0'), ObjectId('6576740ad589a6bfbca6b2b1'), ObjectId('6576740ad589a6bfbca6b2b2'), ObjectId('6576740ad589a6bfbca6b2b3'), ObjectId('6576740ad589a6bfbca6b2b4'), ObjectId('6576740ad589a6bfbca6b2b5'), ObjectId('6576740ad589a6bfbca6b2b6'), ObjectId('6576740ad589a6bfbca6b2b7'), ObjectId('6576740ad589a6bfbca6b2b8'), ObjectId('6576740ad589a6bfbca6b2b9'), ObjectId('6576740ad589a6bfbca6b2ba'), ObjectId('6576740ad589a6bfbca6b2bb'), ObjectId('6576740ad589a6bfbca6b2bc'), ObjectId('6576740ad589a6bfbca6b2bd'), ObjectId('6576740ad589a6bfbca6b2be'), ObjectId('6576740ad589a6bfbca6b2bf'), ObjectId('6576740ad589a6bfbca6b2c0'), ObjectId('6576740ad589a6bfbca6b2c1'), ObjectId('6576740ad589a6bfbca6b2c2'), ObjectId('6576740ad589a6bfbca6b2c3'), ObjectId('6576740ad589a6bfbca6b2c4'), ObjectId('6576740ad589a6bfbca6b2c5'), ObjectId('6576740ad589a6bfbca6b2c6'), ObjectId('6576740ad589a6bfbca6b2c7'), ObjectId('6576740ad589a6bfbca6b2c8'), ObjectId('6576740ad589a6bfbca6b2c9'), ObjectId('6576740ad589a6bfbca6b2ca'), ObjectId('6576740ad589a6bfbca6b2cb'), ObjectId('6576740ad589a6bfbca6b2cc'), ObjectId('6576740ad589a6bfbca6b2cd'), ObjectId('6576740ad589a6bfbca6b2ce'), ObjectId('6576740ad589a6bfbca6b2cf'), ObjectId('6576740ad589a6bfbca6b2d0'), ObjectId('6576740ad589a6bfbca6b2d1'), ObjectId('6576740ad589a6bfbca6b2d2'), ObjectId('6576740ad589a6bfbca6b2d3'), ObjectId('6576740ad589a6bfbca6b2d4'), ObjectId('6576740ad589a6bfbca6b2d5'), ObjectId('6576740ad589a6bfbca6b2d6'), ObjectId('6576740ad589a6bfbca6b2d7'), ObjectId('6576740ad589a6bfbca6b2d8'), ObjectId('6576740ad589a6bfbca6b2d9'), ObjectId('6576740ad589a6bfbca6b2da'), ObjectId('6576740ad589a6bfbca6b2db'), ObjectId('6576740ad589a6bfbca6b2dc'), ObjectId('6576740ad589a6bfbca6b2dd'), ObjectId('6576740ad589a6bfbca6b2de'), ObjectId('6576740ad589a6bfbca6b2df'), ObjectId('6576740ad589a6bfbca6b2e0'), ObjectId('6576740ad589a6bfbca6b2e1'), ObjectId('6576740ad589a6bfbca6b2e2'), ObjectId('6576740ad589a6bfbca6b2e3'), ObjectId('6576740ad589a6bfbca6b2e4'), ObjectId('6576740ad589a6bfbca6b2e5'), ObjectId('6576740ad589a6bfbca6b2e6'), ObjectId('6576740ad589a6bfbca6b2e7'), ObjectId('6576740ad589a6bfbca6b2e8'), ObjectId('6576740ad589a6bfbca6b2e9'), ObjectId('6576740ad589a6bfbca6b2ea'), ObjectId('6576740ad589a6bfbca6b2eb'), ObjectId('6576740ad589a6bfbca6b2ec'), ObjectId('6576740ad589a6bfbca6b2ed'), ObjectId('6576740ad589a6bfbca6b2ee'), ObjectId('6576740ad589a6bfbca6b2ef'), ObjectId('6576740ad589a6bfbca6b2f0'), ObjectId('6576740ad589a6bfbca6b2f1'), ObjectId('6576740ad589a6bfbca6b2f2'), ObjectId('6576740ad589a6bfbca6b2f3'), ObjectId('6576740ad589a6bfbca6b2f4'), ObjectId('6576740ad589a6bfbca6b2f5'), ObjectId('6576740ad589a6bfbca6b2f6'), ObjectId('6576740ad589a6bfbca6b2f7'), ObjectId('6576740ad589a6bfbca6b2f8'), ObjectId('6576740ad589a6bfbca6b2f9'), ObjectId('6576740ad589a6bfbca6b2fa'), ObjectId('6576740ad589a6bfbca6b2fb'), ObjectId('6576740ad589a6bfbca6b2fc'), ObjectId('6576740ad589a6bfbca6b2fd'), ObjectId('6576740ad589a6bfbca6b2fe'), ObjectId('6576740ad589a6bfbca6b2ff'), ObjectId('6576740ad589a6bfbca6b300'), ObjectId('6576740ad589a6bfbca6b301'), ObjectId('6576740ad589a6bfbca6b302'), ObjectId('6576740ad589a6bfbca6b303'), ObjectId('6576740ad589a6bfbca6b304'), ObjectId('6576740ad589a6bfbca6b305'), ObjectId('6576740ad589a6bfbca6b306'), ObjectId('6576740ad589a6bfbca6b307'), ObjectId('6576740ad589a6bfbca6b308'), ObjectId('6576740ad589a6bfbca6b309'), ObjectId('6576740ad589a6bfbca6b30a'), ObjectId('6576740ad589a6bfbca6b30b'), ObjectId('6576740ad589a6bfbca6b30c'), ObjectId('6576740ad589a6bfbca6b30d'), ObjectId('6576740ad589a6bfbca6b30e'), ObjectId('6576740ad589a6bfbca6b30f'), ObjectId('6576740ad589a6bfbca6b310'), ObjectId('6576740ad589a6bfbca6b311'), ObjectId('6576740ad589a6bfbca6b312'), ObjectId('6576740ad589a6bfbca6b313'), ObjectId('6576740ad589a6bfbca6b314'), ObjectId('6576740ad589a6bfbca6b315'), ObjectId('6576740ad589a6bfbca6b316'), ObjectId('6576740ad589a6bfbca6b317'), ObjectId('6576740ad589a6bfbca6b318'), ObjectId('6576740ad589a6bfbca6b319'), ObjectId('6576740ad589a6bfbca6b31a'), ObjectId('6576740ad589a6bfbca6b31b'), ObjectId('6576740ad589a6bfbca6b31c'), ObjectId('6576740ad589a6bfbca6b31d'), ObjectId('6576740ad589a6bfbca6b31e'), ObjectId('6576740ad589a6bfbca6b31f'), ObjectId('6576740ad589a6bfbca6b320'), ObjectId('6576740ad589a6bfbca6b321'), ObjectId('6576740ad589a6bfbca6b322'), ObjectId('6576740ad589a6bfbca6b323'), ObjectId('6576740ad589a6bfbca6b324'), ObjectId('6576740ad589a6bfbca6b325'), ObjectId('6576740ad589a6bfbca6b326'), ObjectId('6576740ad589a6bfbca6b327'), ObjectId('6576740ad589a6bfbca6b328'), ObjectId('6576740ad589a6bfbca6b329'), ObjectId('6576740ad589a6bfbca6b32a'), ObjectId('6576740ad589a6bfbca6b32b'), ObjectId('6576740ad589a6bfbca6b32c'), ObjectId('6576740ad589a6bfbca6b32d'), ObjectId('6576740ad589a6bfbca6b32e'), ObjectId('6576740ad589a6bfbca6b32f'), ObjectId('6576740ad589a6bfbca6b330'), ObjectId('6576740ad589a6bfbca6b331'), ObjectId('6576740ad589a6bfbca6b332'), ObjectId('6576740ad589a6bfbca6b333'), ObjectId('6576740ad589a6bfbca6b334'), ObjectId('6576740ad589a6bfbca6b335'), ObjectId('6576740ad589a6bfbca6b336'), ObjectId('6576740ad589a6bfbca6b337'), ObjectId('6576740ad589a6bfbca6b338'), ObjectId('6576740ad589a6bfbca6b339'), ObjectId('6576740ad589a6bfbca6b33a'), ObjectId('6576740ad589a6bfbca6b33b'), ObjectId('6576740ad589a6bfbca6b33c'), ObjectId('6576740ad589a6bfbca6b33d'), ObjectId('6576740ad589a6bfbca6b33e'), ObjectId('6576740ad589a6bfbca6b33f'), ObjectId('6576740ad589a6bfbca6b340'), ObjectId('6576740ad589a6bfbca6b341'), ObjectId('6576740ad589a6bfbca6b342'), ObjectId('6576740ad589a6bfbca6b343'), ObjectId('6576740ad589a6bfbca6b344'), ObjectId('6576740ad589a6bfbca6b345'), ObjectId('6576740ad589a6bfbca6b346'), ObjectId('6576740ad589a6bfbca6b347'), ObjectId('6576740ad589a6bfbca6b348'), ObjectId('6576740ad589a6bfbca6b349'), ObjectId('6576740ad589a6bfbca6b34a'), ObjectId('6576740ad589a6bfbca6b34b'), ObjectId('6576740ad589a6bfbca6b34c'), ObjectId('6576740ad589a6bfbca6b34d'), ObjectId('6576740ad589a6bfbca6b34e'), ObjectId('6576740ad589a6bfbca6b34f'), ObjectId('6576740ad589a6bfbca6b350'), ObjectId('6576740ad589a6bfbca6b351'), ObjectId('6576740ad589a6bfbca6b352'), ObjectId('6576740ad589a6bfbca6b353'), ObjectId('6576740ad589a6bfbca6b354'), ObjectId('6576740ad589a6bfbca6b355'), ObjectId('6576740ad589a6bfbca6b356'), ObjectId('6576740ad589a6bfbca6b357'), ObjectId('6576740ad589a6bfbca6b358'), ObjectId('6576740ad589a6bfbca6b359'), ObjectId('6576740ad589a6bfbca6b35a'), ObjectId('6576740ad589a6bfbca6b35b'), ObjectId('6576740ad589a6bfbca6b35c'), ObjectId('6576740ad589a6bfbca6b35d'), ObjectId('6576740ad589a6bfbca6b35e'), ObjectId('6576740ad589a6bfbca6b35f'), ObjectId('6576740ad589a6bfbca6b360'), ObjectId('6576740ad589a6bfbca6b361'), ObjectId('6576740ad589a6bfbca6b362'), ObjectId('6576740ad589a6bfbca6b363'), ObjectId('6576740ad589a6bfbca6b364'), ObjectId('6576740ad589a6bfbca6b365'), ObjectId('6576740ad589a6bfbca6b366'), ObjectId('6576740ad589a6bfbca6b367'), ObjectId('6576740ad589a6bfbca6b368'), ObjectId('6576740ad589a6bfbca6b369'), ObjectId('6576740ad589a6bfbca6b36a'), ObjectId('6576740ad589a6bfbca6b36b')], acknowledged=True)"
      ]
     },
     "execution_count": 16,
     "metadata": {},
     "output_type": "execute_result"
    }
   ],
   "source": [
    "collection_careerbuilder.insert_many(careerbuilder)\n",
    "collection_devwork.insert_many(devwork)\n",
    "collection_indeed.insert_many(indeed)\n",
    "collection_jobs365.insert_many(jobs365)\n",
    "collection_jobsgo.insert_many(jobsgo)\n"
   ]
  },
  {
   "cell_type": "markdown",
   "metadata": {},
   "source": [
    "# ingest data"
   ]
  },
  {
   "cell_type": "markdown",
   "metadata": {},
   "source": [
    "#### indeed"
   ]
  },
  {
   "cell_type": "code",
   "execution_count": 18,
   "metadata": {},
   "outputs": [],
   "source": [
    "data_indeed = collection_indeed.find({})\n",
    "merged_collections = db_jobs['merged_collections']\n",
    "for document in data_indeed:\n",
    "    new_doc = {\n",
    "        'keyword': document.get('keyword', ''),\n",
    "        'job_name': document.get('jobTitle', ''),\n",
    "        'requirements': document.get('Requirement', []),\n",
    "        'salary': document.get('Salary', []),\n",
    "        'offer': document.get('Offer', []),\n",
    "        'location' : document.get('Location', ''),\n",
    "        'company' : document.get('company', ''),\n",
    "        'from': 'indeed'\n",
    "    }\n",
    "    merged_collections.insert_one(new_doc)\n",
    "\n"
   ]
  },
  {
   "cell_type": "markdown",
   "metadata": {},
   "source": [
    "### jobs 365"
   ]
  },
  {
   "cell_type": "code",
   "execution_count": 20,
   "metadata": {},
   "outputs": [],
   "source": [
    "data_jobs365 = collection_jobs365.find({})\n",
    "for document in data_jobs365:\n",
    "    new_doc = {\n",
    "        'keyword': document.get('keyword', ''),\n",
    "        'job_name': document.get('jobName', ''),\n",
    "        'requirements': document.get('requirement', []),\n",
    "        'salary': document.get('salary', []),\n",
    "        'offer': document.get('offer', []),\n",
    "        'location' : document.get('location', ''),\n",
    "        'company' : document.get('company', ''),\n",
    "        'from': 'jobs365'\n",
    "    }\n",
    "    merged_collections.insert_one(new_doc)"
   ]
  },
  {
   "cell_type": "code",
   "execution_count": 21,
   "metadata": {},
   "outputs": [],
   "source": [
    "data_merged = merged_collections.find({})"
   ]
  },
  {
   "cell_type": "code",
   "execution_count": 23,
   "metadata": {},
   "outputs": [],
   "source": [
    "# to dict\n",
    "data_merged = list(data_merged)"
   ]
  },
  {
   "cell_type": "code",
   "execution_count": 26,
   "metadata": {},
   "outputs": [
    {
     "ename": "TypeError",
     "evalue": "Object of type ObjectId is not JSON serializable",
     "output_type": "error",
     "traceback": [
      "\u001b[1;31m---------------------------------------------------------------------------\u001b[0m",
      "\u001b[1;31mTypeError\u001b[0m                                 Traceback (most recent call last)",
      "Cell \u001b[1;32mIn[26], line 4\u001b[0m\n\u001b[0;32m      2\u001b[0m \u001b[38;5;28;01mimport\u001b[39;00m \u001b[38;5;21;01mjson\u001b[39;00m\n\u001b[0;32m      3\u001b[0m \u001b[38;5;28;01mwith\u001b[39;00m \u001b[38;5;28mopen\u001b[39m(\u001b[38;5;124m'\u001b[39m\u001b[38;5;124mmerged_collections.json\u001b[39m\u001b[38;5;124m'\u001b[39m, \u001b[38;5;124m'\u001b[39m\u001b[38;5;124mw\u001b[39m\u001b[38;5;124m'\u001b[39m,encoding\u001b[38;5;241m=\u001b[39m\u001b[38;5;124m'\u001b[39m\u001b[38;5;124mutf-8\u001b[39m\u001b[38;5;124m'\u001b[39m) \u001b[38;5;28;01mas\u001b[39;00m f:\n\u001b[1;32m----> 4\u001b[0m     \u001b[43mjson\u001b[49m\u001b[38;5;241;43m.\u001b[39;49m\u001b[43mdump\u001b[49m\u001b[43m(\u001b[49m\u001b[43mdata_merged\u001b[49m\u001b[43m,\u001b[49m\u001b[43m \u001b[49m\u001b[43mf\u001b[49m\u001b[43m,\u001b[49m\u001b[43m \u001b[49m\u001b[43mensure_ascii\u001b[49m\u001b[38;5;241;43m=\u001b[39;49m\u001b[38;5;28;43;01mFalse\u001b[39;49;00m\u001b[43m,\u001b[49m\u001b[43m \u001b[49m\u001b[43mindent\u001b[49m\u001b[38;5;241;43m=\u001b[39;49m\u001b[38;5;241;43m4\u001b[39;49m\u001b[43m)\u001b[49m\n",
      "File \u001b[1;32md:\\anaconda3\\envs\\thanhnx\\lib\\json\\__init__.py:179\u001b[0m, in \u001b[0;36mdump\u001b[1;34m(obj, fp, skipkeys, ensure_ascii, check_circular, allow_nan, cls, indent, separators, default, sort_keys, **kw)\u001b[0m\n\u001b[0;32m    173\u001b[0m     iterable \u001b[38;5;241m=\u001b[39m \u001b[38;5;28mcls\u001b[39m(skipkeys\u001b[38;5;241m=\u001b[39mskipkeys, ensure_ascii\u001b[38;5;241m=\u001b[39mensure_ascii,\n\u001b[0;32m    174\u001b[0m         check_circular\u001b[38;5;241m=\u001b[39mcheck_circular, allow_nan\u001b[38;5;241m=\u001b[39mallow_nan, indent\u001b[38;5;241m=\u001b[39mindent,\n\u001b[0;32m    175\u001b[0m         separators\u001b[38;5;241m=\u001b[39mseparators,\n\u001b[0;32m    176\u001b[0m         default\u001b[38;5;241m=\u001b[39mdefault, sort_keys\u001b[38;5;241m=\u001b[39msort_keys, \u001b[38;5;241m*\u001b[39m\u001b[38;5;241m*\u001b[39mkw)\u001b[38;5;241m.\u001b[39miterencode(obj)\n\u001b[0;32m    177\u001b[0m \u001b[38;5;66;03m# could accelerate with writelines in some versions of Python, at\u001b[39;00m\n\u001b[0;32m    178\u001b[0m \u001b[38;5;66;03m# a debuggability cost\u001b[39;00m\n\u001b[1;32m--> 179\u001b[0m \u001b[38;5;28;01mfor\u001b[39;00m chunk \u001b[38;5;129;01min\u001b[39;00m iterable:\n\u001b[0;32m    180\u001b[0m     fp\u001b[38;5;241m.\u001b[39mwrite(chunk)\n",
      "File \u001b[1;32md:\\anaconda3\\envs\\thanhnx\\lib\\json\\encoder.py:429\u001b[0m, in \u001b[0;36m_make_iterencode.<locals>._iterencode\u001b[1;34m(o, _current_indent_level)\u001b[0m\n\u001b[0;32m    427\u001b[0m     \u001b[38;5;28;01myield\u001b[39;00m _floatstr(o)\n\u001b[0;32m    428\u001b[0m \u001b[38;5;28;01melif\u001b[39;00m \u001b[38;5;28misinstance\u001b[39m(o, (\u001b[38;5;28mlist\u001b[39m, \u001b[38;5;28mtuple\u001b[39m)):\n\u001b[1;32m--> 429\u001b[0m     \u001b[38;5;28;01myield from\u001b[39;00m _iterencode_list(o, _current_indent_level)\n\u001b[0;32m    430\u001b[0m \u001b[38;5;28;01melif\u001b[39;00m \u001b[38;5;28misinstance\u001b[39m(o, \u001b[38;5;28mdict\u001b[39m):\n\u001b[0;32m    431\u001b[0m     \u001b[38;5;28;01myield from\u001b[39;00m _iterencode_dict(o, _current_indent_level)\n",
      "File \u001b[1;32md:\\anaconda3\\envs\\thanhnx\\lib\\json\\encoder.py:325\u001b[0m, in \u001b[0;36m_make_iterencode.<locals>._iterencode_list\u001b[1;34m(lst, _current_indent_level)\u001b[0m\n\u001b[0;32m    323\u001b[0m         \u001b[38;5;28;01melse\u001b[39;00m:\n\u001b[0;32m    324\u001b[0m             chunks \u001b[38;5;241m=\u001b[39m _iterencode(value, _current_indent_level)\n\u001b[1;32m--> 325\u001b[0m         \u001b[38;5;28;01myield from\u001b[39;00m chunks\n\u001b[0;32m    326\u001b[0m \u001b[38;5;28;01mif\u001b[39;00m newline_indent \u001b[38;5;129;01mis\u001b[39;00m \u001b[38;5;129;01mnot\u001b[39;00m \u001b[38;5;28;01mNone\u001b[39;00m:\n\u001b[0;32m    327\u001b[0m     _current_indent_level \u001b[38;5;241m-\u001b[39m\u001b[38;5;241m=\u001b[39m \u001b[38;5;241m1\u001b[39m\n",
      "File \u001b[1;32md:\\anaconda3\\envs\\thanhnx\\lib\\json\\encoder.py:405\u001b[0m, in \u001b[0;36m_make_iterencode.<locals>._iterencode_dict\u001b[1;34m(dct, _current_indent_level)\u001b[0m\n\u001b[0;32m    403\u001b[0m         \u001b[38;5;28;01melse\u001b[39;00m:\n\u001b[0;32m    404\u001b[0m             chunks \u001b[38;5;241m=\u001b[39m _iterencode(value, _current_indent_level)\n\u001b[1;32m--> 405\u001b[0m         \u001b[38;5;28;01myield from\u001b[39;00m chunks\n\u001b[0;32m    406\u001b[0m \u001b[38;5;28;01mif\u001b[39;00m newline_indent \u001b[38;5;129;01mis\u001b[39;00m \u001b[38;5;129;01mnot\u001b[39;00m \u001b[38;5;28;01mNone\u001b[39;00m:\n\u001b[0;32m    407\u001b[0m     _current_indent_level \u001b[38;5;241m-\u001b[39m\u001b[38;5;241m=\u001b[39m \u001b[38;5;241m1\u001b[39m\n",
      "File \u001b[1;32md:\\anaconda3\\envs\\thanhnx\\lib\\json\\encoder.py:438\u001b[0m, in \u001b[0;36m_make_iterencode.<locals>._iterencode\u001b[1;34m(o, _current_indent_level)\u001b[0m\n\u001b[0;32m    436\u001b[0m         \u001b[38;5;28;01mraise\u001b[39;00m \u001b[38;5;167;01mValueError\u001b[39;00m(\u001b[38;5;124m\"\u001b[39m\u001b[38;5;124mCircular reference detected\u001b[39m\u001b[38;5;124m\"\u001b[39m)\n\u001b[0;32m    437\u001b[0m     markers[markerid] \u001b[38;5;241m=\u001b[39m o\n\u001b[1;32m--> 438\u001b[0m o \u001b[38;5;241m=\u001b[39m \u001b[43m_default\u001b[49m\u001b[43m(\u001b[49m\u001b[43mo\u001b[49m\u001b[43m)\u001b[49m\n\u001b[0;32m    439\u001b[0m \u001b[38;5;28;01myield from\u001b[39;00m _iterencode(o, _current_indent_level)\n\u001b[0;32m    440\u001b[0m \u001b[38;5;28;01mif\u001b[39;00m markers \u001b[38;5;129;01mis\u001b[39;00m \u001b[38;5;129;01mnot\u001b[39;00m \u001b[38;5;28;01mNone\u001b[39;00m:\n",
      "File \u001b[1;32md:\\anaconda3\\envs\\thanhnx\\lib\\json\\encoder.py:179\u001b[0m, in \u001b[0;36mJSONEncoder.default\u001b[1;34m(self, o)\u001b[0m\n\u001b[0;32m    160\u001b[0m \u001b[38;5;28;01mdef\u001b[39;00m \u001b[38;5;21mdefault\u001b[39m(\u001b[38;5;28mself\u001b[39m, o):\n\u001b[0;32m    161\u001b[0m \u001b[38;5;250m    \u001b[39m\u001b[38;5;124;03m\"\"\"Implement this method in a subclass such that it returns\u001b[39;00m\n\u001b[0;32m    162\u001b[0m \u001b[38;5;124;03m    a serializable object for ``o``, or calls the base implementation\u001b[39;00m\n\u001b[0;32m    163\u001b[0m \u001b[38;5;124;03m    (to raise a ``TypeError``).\u001b[39;00m\n\u001b[1;32m   (...)\u001b[0m\n\u001b[0;32m    177\u001b[0m \n\u001b[0;32m    178\u001b[0m \u001b[38;5;124;03m    \"\"\"\u001b[39;00m\n\u001b[1;32m--> 179\u001b[0m     \u001b[38;5;28;01mraise\u001b[39;00m \u001b[38;5;167;01mTypeError\u001b[39;00m(\u001b[38;5;124mf\u001b[39m\u001b[38;5;124m'\u001b[39m\u001b[38;5;124mObject of type \u001b[39m\u001b[38;5;132;01m{\u001b[39;00mo\u001b[38;5;241m.\u001b[39m\u001b[38;5;18m__class__\u001b[39m\u001b[38;5;241m.\u001b[39m\u001b[38;5;18m__name__\u001b[39m\u001b[38;5;132;01m}\u001b[39;00m\u001b[38;5;124m \u001b[39m\u001b[38;5;124m'\u001b[39m\n\u001b[0;32m    180\u001b[0m                     \u001b[38;5;124mf\u001b[39m\u001b[38;5;124m'\u001b[39m\u001b[38;5;124mis not JSON serializable\u001b[39m\u001b[38;5;124m'\u001b[39m)\n",
      "\u001b[1;31mTypeError\u001b[0m: Object of type ObjectId is not JSON serializable"
     ]
    }
   ],
   "source": [
    "# to json\n",
    "import json\n",
    "with open('merged_collections.json', 'w',encoding='utf-8') as f:\n",
    "    json.dump(data_merged, f, ensure_ascii=False, indent=4)"
   ]
  },
  {
   "cell_type": "code",
   "execution_count": null,
   "metadata": {},
   "outputs": [],
   "source": []
  }
 ],
 "metadata": {
  "kernelspec": {
   "display_name": "thanhnx",
   "language": "python",
   "name": "python3"
  },
  "language_info": {
   "codemirror_mode": {
    "name": "ipython",
    "version": 3
   },
   "file_extension": ".py",
   "mimetype": "text/x-python",
   "name": "python",
   "nbconvert_exporter": "python",
   "pygments_lexer": "ipython3",
   "version": "3.10.12"
  }
 },
 "nbformat": 4,
 "nbformat_minor": 2
}
